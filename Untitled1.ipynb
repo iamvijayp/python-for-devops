{
  "nbformat": 4,
  "nbformat_minor": 0,
  "metadata": {
    "colab": {
      "provenance": [],
      "toc_visible": true,
      "authorship_tag": "ABX9TyP5Pq06gbfFkFhdHhjmV/rf",
      "include_colab_link": true
    },
    "kernelspec": {
      "name": "python3",
      "display_name": "Python 3"
    },
    "language_info": {
      "name": "python"
    }
  },
  "cells": [
    {
      "cell_type": "markdown",
      "metadata": {
        "id": "view-in-github",
        "colab_type": "text"
      },
      "source": [
        "<a href=\"https://colab.research.google.com/github/iamvijayp/python-for-devops/blob/main/Untitled1.ipynb\" target=\"_parent\"><img src=\"https://colab.research.google.com/assets/colab-badge.svg\" alt=\"Open In Colab\"/></a>"
      ]
    },
    {
      "cell_type": "markdown",
      "source": [
        "#python for devops"
      ],
      "metadata": {
        "id": "y8zbmK9hkpFd"
      }
    },
    {
      "cell_type": "markdown",
      "source": [
        "## Statements"
      ],
      "metadata": {
        "id": "RJO1Z1fxku0d"
      }
    },
    {
      "cell_type": "code",
      "source": [
        "for meal_item, meal_name in meal.items():\n",
        "  print(f\"meal name is {meal_name} at meal time {meal_item}\")"
      ],
      "metadata": {
        "colab": {
          "base_uri": "https://localhost:8080/"
        },
        "id": "Ko0kJlZif_ce",
        "outputId": "ff7cce86-35b8-4fad-c88b-49be9067b3d6"
      },
      "execution_count": 6,
      "outputs": [
        {
          "output_type": "stream",
          "name": "stdout",
          "text": [
            "meal name is soup at meal time breakfast\n",
            "meal name is biriyani at meal time lunch\n",
            "meal name is porotta at meal time dinner\n"
          ]
        }
      ]
    }
  ]
}